{
 "cells": [
  {
   "cell_type": "markdown",
   "id": "14805c33-724c-496e-8379-06c4d87b8290",
   "metadata": {},
   "source": [
    "# Using FeatureExtraction"
   ]
  },
  {
   "cell_type": "markdown",
   "id": "f1368585-d7d4-44d3-902f-6db92c9019d1",
   "metadata": {},
   "source": [
    "Example followed: https://ohdsi.github.io/FeatureExtraction/articles/UsingFeatureExtraction.html\n",
    "\n",
    "by Anja van Gestel"
   ]
  },
  {
   "cell_type": "code",
   "execution_count": null,
   "id": "57c2a1ef",
   "metadata": {},
   "outputs": [],
   "source": [
    "## in R:\n",
    "# remotes::install_github(\"OHDSI/FeatureExtraction\")\n",
    "\n",
    "%load_ext autoreload\n",
    "%autoreload 2\n",
    "\n",
    "import os\n",
    "os.environ[\"R_HOME\"] = r\"C:\\Program Files\\R\\R-4.3.1\" # change as needed\n",
    "\n",
    "from ohdsi import feature_extraction\n",
    "from ohdsi import common\n",
    "from ohdsi.database_connector import Connect, Sql\n",
    "from ohdsi.sqlrender import RenderSql, HelperFunctions as HelperFunctions"
   ]
  },
  {
   "cell_type": "markdown",
   "id": "b1adcf2e",
   "metadata": {},
   "source": [
    "# Introduction"
   ]
  },
  {
   "cell_type": "markdown",
   "id": "3d02f2e8",
   "metadata": {},
   "source": [
    "The <code>FeatureExtraction</code> package can be used to create features for a cohort, using the information stored in the Common Data Model. A cohort is defined a set of persons who satisfy one or more inclusion criteria for a duration of time. Features can for example be diagnoses observed prior to entering the cohort. Some people might also refer to such features as ‘baseline characteristics’, or to features in general as ‘covariates’, and we will use those terms interchangeably throughout this vignette.\n",
    "\n",
    "This vignette describes how features can be constructed using the default covariate definitions embedded in the package. Although these definitions allow quite some customization through predefined parameters, it is possible that someone needs more customization. In this case, the reader is referred to the other vignettes included in this package that deal with constructing completely custom covariates.\n",
    "\n",
    "This vignette will first describe how to specify which features to construct. In many situations, for example when using <code>FeatureExtraction</code> as part of another package such as <code>CohortMethod</code> or <code>PatientLevelPrediction</code>, that is all one needs to know about the <code>FeatureExtraction</code> package, as the actual calling of the package is done by the other package. However, it is also possible to use this package on its own, for example to create a descriptive characterization of a cohort to include in a paper."
   ]
  },
  {
   "cell_type": "markdown",
   "id": "19c67d8a",
   "metadata": {},
   "source": [
    "# Covariate settings"
   ]
  },
  {
   "cell_type": "markdown",
   "id": "a34b8ba1",
   "metadata": {},
   "source": [
    "Users can specify which covariates to construct in three ways:\n",
    "\n",
    "1. Choose the default set of covariates.\n",
    "2. Choose from a set of prespecified analyses.\n",
    "3. Create a set of custom analyses.\n",
    "\n",
    "An <b>analysis</b> is a process that creates one or more similar covariates. For example, one analysis might create a binary covariate for each condition observed in the condition_occurrence table in the year prior to cohort start, and another analysis might create a single covariate representing the Charlson comorbidity index.\n",
    "\n",
    "Note that it is always possible to specify a set of concept IDs that can or can’t be used to construct features. When choosing the default set (option 1) or the prespecified analysis (option 2) this can only be done across all analysis. When creating custom analyses (option 3) this can be specified per analysis.\n",
    "\n",
    "For <b>advanced users</b>: It is also possible to specify a set of covariate IDs that need to be constructed. A covariate ID identifies a specific covariate, for example the Charlson comorbidity index, or the occurrence of a specific condition concept in a specific time window. A covariate ID is therefore not to be confused with a concept ID. The typical scenario where one might want to specify covariate IDs to construct is when someone already constructed covariates in one population, found a subset of covariates to be of interest, and would like to have only those covariates constructed in another population."
   ]
  },
  {
   "cell_type": "markdown",
   "id": "3c7e66f6",
   "metadata": {},
   "source": [
    "## Using the default set of covariates\n",
    "\n",
    "Using the default set of covariates is straightforward:"
   ]
  },
  {
   "cell_type": "code",
   "execution_count": null,
   "id": "7459d5cd",
   "metadata": {},
   "outputs": [],
   "source": [
    "settings = feature_extraction.create_default_covariate_settings()"
   ]
  },
  {
   "cell_type": "markdown",
   "id": "880f1d8d",
   "metadata": {},
   "source": [
    "This will create a wide array of features, ranging from demographics, through conditions and drugs, to several risk scores.\n",
    "\n",
    "Note that we could specify a set of concepts that should not be used to create covariates, for example:"
   ]
  },
  {
   "cell_type": "code",
   "execution_count": null,
   "id": "51f29dae",
   "metadata": {},
   "outputs": [],
   "source": [
    "settings = feature_extraction.create_default_covariate_settings(\n",
    "    excluded_covariate_concept_ids = [1124300],\n",
    "    add_descendants_to_exclude = True)"
   ]
  },
  {
   "cell_type": "markdown",
   "id": "c100cdb3",
   "metadata": {},
   "source": [
    "This will create the default set of covariates, except those derived from concept 1124300 (the ingredient diclofenac) and any of its descendants (ie. all drugs containing the ingredient diclofenac)."
   ]
  },
  {
   "cell_type": "markdown",
   "id": "957f77a3",
   "metadata": {},
   "source": [
    "## Using prespecified analyses\n",
    "\n",
    "The function <code>createCovariateSettings</code> allow the user to choose from a large set of predefined covariates. Type <code>?createCovariateSettings</code> to get an overview of the available options. For example:"
   ]
  },
  {
   "cell_type": "code",
   "execution_count": null,
   "id": "d466de2d",
   "metadata": {},
   "outputs": [],
   "source": [
    "settings = feature_extraction.create_covariate_settings(\n",
    "    use_demographics_gender = True,\n",
    "    use_demographics_age_group = True,\n",
    "    use_condition_occurrence_any_time_prior = True)"
   ]
  },
  {
   "cell_type": "markdown",
   "id": "70ea103e",
   "metadata": {},
   "source": [
    "This will create binary covariates for gender, age (in 5 year age groups), and each concept observed in the <code>condition_occurrence</code> table any time prior to (and including) the cohort start date.\n",
    "\n",
    "Many of the prespecified analyses refer to a short, medium, or long term time window. By default, these windows are defined as:\n",
    "\n",
    "- Long term: 365 days prior up to and including the cohort start date.\n",
    "- Medium term: 180 days prior up to and including the cohort start date.\n",
    "- Short term: 30 days prior up to and including the cohort start date.\n",
    "\n",
    "However, the user can change these values. For example:"
   ]
  },
  {
   "cell_type": "code",
   "execution_count": null,
   "id": "fc38bc78",
   "metadata": {},
   "outputs": [],
   "source": [
    "settings = feature_extraction.create_covariate_settings(\n",
    "    use_condition_era_long_term = True,\n",
    "    use_condition_era_short_term = True,\n",
    "    use_drug_era_long_term = True,\n",
    "    use_drug_era_short_term = True,\n",
    "    long_term_start_days = -180,\n",
    "    short_term_start_days = -14,\n",
    "    end_days = -1)"
   ]
  },
  {
   "cell_type": "markdown",
   "id": "9dde159f",
   "metadata": {},
   "source": [
    "This redefines the long term window as 180 days prior up to (but not including) the cohort start date, and redefines the short term window as 14 days prior up to (but not including) the cohort start date.\n",
    "\n",
    "Again, we can also specify which concept IDs should or should not be used to construct covariates:"
   ]
  },
  {
   "cell_type": "code",
   "execution_count": null,
   "id": "9b6679c2",
   "metadata": {},
   "outputs": [],
   "source": [
    "settings = feature_extraction.create_covariate_settings(\n",
    "    use_condition_era_long_term = True,\n",
    "    use_condition_era_short_term = True,\n",
    "    use_drug_era_long_term = True,\n",
    "    use_drug_era_short_term = True,\n",
    "    long_term_start_days = -180,\n",
    "    short_term_start_days = -14,\n",
    "    end_days = -1,\n",
    "    excluded_covariate_concept_ids = 1124300,\n",
    "    add_descendants_to_exclude = True)"
   ]
  },
  {
   "cell_type": "markdown",
   "id": "9725c196",
   "metadata": {},
   "source": [
    "## Creating a set of custom covariates\n",
    "\n",
    "This option should only be used by <b>advanced users</b>. It requires one to understand that at the implementation level, an analysis is a combination of a piece of highly parameterized SQL together with a specification of the parameter values. The best way to understand the available options is to take a prespecified analysis as starting point, and convert it to a detailed setting object:"
   ]
  },
  {
   "cell_type": "code",
   "execution_count": null,
   "id": "6e36b9c1",
   "metadata": {},
   "outputs": [],
   "source": [
    "settings = feature_extraction.create_covariate_settings(use_condition_era_long_term = True)\n",
    "settings2 = feature_extraction.convert_prespec_settings_to_detailed_settings(settings)\n",
    "\n",
    "settings2.analyses"
   ]
  },
  {
   "cell_type": "markdown",
   "id": "a89c0ca8",
   "metadata": {},
   "source": [
    "One can create a detailed analysis settings object from scratch, and use it to create a detailed settings object:"
   ]
  },
  {
   "cell_type": "code",
   "execution_count": null,
   "id": "f80c237c",
   "metadata": {},
   "outputs": [],
   "source": [
    "analysis_details = feature_extraction.create_analysis_details(\n",
    "    analysis_id = 1,\n",
    "    sql_file_name = r\"path_to\\DemographicsGender.sql\",\n",
    "    parameters = {\n",
    "        'analysis_id': 1,\n",
    "        'analysis_name': \"Gender\",\n",
    "        'domain_id': \"Demographics\"},\n",
    "    included_covariate_concept_ids = [],\n",
    "    add_descendants_to_include = False,\n",
    "    excluded_covariate_concept_ids = [],\n",
    "    add_descendants_to_exclude = False,\n",
    "    included_covariate_ids = [])\n",
    "\n",
    "settings = feature_extraction.create_detailed_covariate_settings(list(analysis_details))"
   ]
  },
  {
   "cell_type": "markdown",
   "id": "4493422c",
   "metadata": {},
   "source": [
    "## Temporal covariates"
   ]
  },
  {
   "cell_type": "markdown",
   "id": "75c7ef53",
   "metadata": {},
   "source": [
    "Ordinarily, covariates are created for just a few time windows of interest, for example the short, medium, and long term windows described earlier. However, sometimes a more fine-grained temporal resolution is required, for example creating covariates for each day separately, in the 365 days prior to cohort start. We will refer to this type of covariates as temporal covariates. Temporal covariates share the same covariate ID across the time windows, and use a separate time ID to distinguish between time windows. There currently aren’t many applications that are able to handle temporal covariates. For example, the CohortMethod package will break when provided with temporal covariates. However, there are some machine learning algorithms in the PatientLevelPrediction package that require temporal covariates.\n",
    "\n",
    "Again, we can just choose to use the default settings:"
   ]
  },
  {
   "cell_type": "code",
   "execution_count": null,
   "id": "032aaff0",
   "metadata": {},
   "outputs": [],
   "source": [
    "settings = feature_extraction.create_default_temporal_covariate_settings()"
   ]
  },
  {
   "cell_type": "markdown",
   "id": "55ea922b",
   "metadata": {},
   "source": [
    "Or, we can choose from a set of prespecified temporal covariates:"
   ]
  },
  {
   "cell_type": "code",
   "execution_count": null,
   "id": "d6fffbc3",
   "metadata": {},
   "outputs": [],
   "source": [
    "settings2 = feature_extraction.create_temporal_covariate_settings(\n",
    "    use_condition_occurrence = True,\n",
    "    use_measurement_value = True)"
   ]
  },
  {
   "cell_type": "markdown",
   "id": "11042a25",
   "metadata": {},
   "source": [
    "In this case we’ve chosen to create binary covariates for each concept in the <code>condition_occurrence</code> table, and continuous covariates for each measurement - unit combination in the <code>measurement</code> table in the CDM. By default, temporal covariates are created for each day separately in the 365 days before (but not including) the cohort start date. Different time windows can also be specified, for example creating 7 day intervals instead:"
   ]
  },
  {
   "cell_type": "code",
   "execution_count": null,
   "id": "5262d256",
   "metadata": {},
   "outputs": [],
   "source": [
    "settings = feature_extraction.create_temporal_covariate_settings(\n",
    "    use_condition_occurrence = True,\n",
    "    use_measurement_value = True,\n",
    "    temporal_start_days = [-364, -7, 7],\n",
    "    temporal_end_days = [-358, -1, 7])"
   ]
  },
  {
   "cell_type": "markdown",
   "id": "3b10fc2c",
   "metadata": {},
   "source": [
    "Each time window includes the specified start and end day.\n",
    "\n",
    "Similar to ordinary covariates, <b>advanced users</b> can also define custom analyses:"
   ]
  },
  {
   "cell_type": "code",
   "execution_count": null,
   "id": "7af5fa3b",
   "metadata": {},
   "outputs": [],
   "source": [
    "analysis_details = feature_extraction.create_analysis_details(\n",
    "    analysis_id = 1,\n",
    "    sql_file_name = r\"path_to\\MeasurementValue.sql\",\n",
    "    parameters = {\n",
    "        'analysis_id': 1,\n",
    "        'analysis_name': \"MeasurementValue\",\n",
    "        'domainId': \"Measurement\"},\n",
    "    included_covariate_concept_ids = [],\n",
    "    add_descendants_to_include = False,\n",
    "    excluded_covariate_concept_ids = [],\n",
    "    add_descendants_to_exclude = False,\n",
    "    included_covariate_ids = [])\n",
    "\n",
    "settings = feature_extraction.create_detailed_temporal_covariate_settings(list(analysis_details))"
   ]
  },
  {
   "cell_type": "markdown",
   "id": "65a2b716-55c5-4ce9-97df-9460b55124eb",
   "metadata": {},
   "source": [
    "### Temporal sequence covariates\n",
    "\n",
    "You can also generate temporal sequence covariate settings with the following function:"
   ]
  },
  {
   "cell_type": "code",
   "execution_count": null,
   "id": "c6426e25-d939-42c7-ac4f-1511be717b66",
   "metadata": {},
   "outputs": [],
   "source": [
    "settings = feature_extraction.create_temporal_sequence_covariate_settings(\n",
    "    use_demographics_gender = True,\n",
    "    use_demographics_age = False,\n",
    "    use_demographics_age_group = True,\n",
    "    use_demographics_race = True,\n",
    "    use_demographics_ethnicity = True,\n",
    "    use_demographics_index_year = True,\n",
    "    use_demographics_index_month = True,\n",
    "    use_condition_occurrence = False,\n",
    "    use_condition_occurrence_primary_inpatient = False,\n",
    "    use_condition_era_start = False,\n",
    "    use_condition_era_group_start = False,\n",
    "    use_drug_exposure = False,\n",
    "    use_drug_era_start = False,\n",
    "    use_drug_era_group_start = False,\n",
    "    use_procedure_occurrence = True,\n",
    "    use_device_exposure = True,\n",
    "    use_measurement = True,\n",
    "    use_measurement_value = False,\n",
    "    use_observation = True,\n",
    "    time_part = \"DAY\",\n",
    "    time_interval = 1,\n",
    "    sequence_end_day = -1,\n",
    "    sequence_start_day = -730,\n",
    "    included_covariate_concept_ids = [],\n",
    "    add_descendants_to_include = False,\n",
    "    excluded_covariate_concept_ids = [],\n",
    "    add_descendants_to_exclude = False,\n",
    "    included_covariate_ids = []\n",
    ")"
   ]
  },
  {
   "cell_type": "markdown",
   "id": "4ebfb14b-78b3-40f9-af2a-4a3a286b0110",
   "metadata": {},
   "source": [
    "## Investigating the covariate data object\n",
    "\n",
    "Some usefull functions when working with covariate data objects:\n",
    "- <code>create_empty_covariate_data</code> creates an empty covariate data object.\n",
    "- <code>is_covariate_data</code> checks if an object is a covariate data object.\n",
    "- <code>is_aggregated_covariate_data</code> checks if a covariate data object is aggregated.\n",
    "- <code>is_temporal_covariate_data</code> checks if a covariate data object is temporal.\n",
    "\n",
    "In the cell below we first create a covariate data object for which you can play around with the arguments <code>aggregated</code> and <code>temporal</code>."
   ]
  },
  {
   "cell_type": "code",
   "execution_count": null,
   "id": "fb44b23c-38c7-40e9-9474-488ec5d2bc51",
   "metadata": {},
   "outputs": [],
   "source": [
    "cov_data_tmp = feature_extraction.create_empty_covariate_data(\n",
    "    cohort_id = 1, \n",
    "    aggregated = False, \n",
    "    temporal = True\n",
    ")\n",
    "\n",
    "is_covariate_data = feature_extraction.is_covariate_data(cov_data_tmp)\n",
    "is_aggregated_covariate_data = feature_extraction.is_aggregated_covariate_data(cov_data_tmp)\n",
    "is_temporal_covariate_data = feature_extraction.is_temporal_covariate_data(cov_data_tmp)\n",
    "\n",
    "print(f'is_covariate_data: {is_covariate_data}')\n",
    "print(f'is_aggregated_covariate_data: {is_aggregated_covariate_data}')\n",
    "print(f'is_temporal_covariate_data: {is_temporal_covariate_data}')"
   ]
  },
  {
   "cell_type": "markdown",
   "id": "8b221666",
   "metadata": {},
   "source": [
    "# Constructing covariates for a cohort of interest"
   ]
  },
  {
   "cell_type": "markdown",
   "id": "919c1810",
   "metadata": {},
   "source": [
    "Here we will walk through an example, creating covariates for two cohorts of interest: <br>\n",
    "new users of etonogestrel (1519936) and new users of paclitaxel (1378382)"
   ]
  },
  {
   "cell_type": "markdown",
   "id": "c5d4c6a2",
   "metadata": {},
   "source": [
    "## Configuring the connection to the server"
   ]
  },
  {
   "cell_type": "markdown",
   "id": "7477834f",
   "metadata": {},
   "source": [
    "We need to tell R how to connect to the server where the data are. <code>CohortMethod</code> uses the <code>DatabaseConnector</code> package, which provides the <code>createConnectionDetails</code> function. Type <code>?createConnectionDetails</code> for the specific settings required for the various database management systems (DBMS). For example, one might connect to a PostgreSQL database using this code:"
   ]
  },
  {
   "cell_type": "code",
   "execution_count": null,
   "id": "61caccc9",
   "metadata": {},
   "outputs": [],
   "source": [
    "connection_details = Connect.create_connection_details(\n",
    "    dbms=\"postgresql\",\n",
    "    server=\"localhost/cdm_database\",\n",
    "    user=\"postgres\",\n",
    "    password=\"password\",\n",
    "    port=5432)\n",
    "conn = Connect.connect(connection_details)\n",
    "\n",
    "cdm_database_schema = \"cdm_schema\"\n",
    "results_database_schema = \"results\""
   ]
  },
  {
   "cell_type": "markdown",
   "id": "20fef5d9",
   "metadata": {},
   "source": [
    "The last two lines define the <code>cdmDatabaseSchema</code> and <code>resultSchema</code> variables. We’ll use these later to tell R where the data in CDM format live, and where we want to write intermediate and result tables. Note that for Microsoft SQL Server, database schemas need to specify both the database and the schema, so for example <code>cdmDatabaseSchema <- \"my_cdm_data.dbo\"</code>."
   ]
  },
  {
   "cell_type": "markdown",
   "id": "53274f44",
   "metadata": {},
   "source": [
    "## Creating a cohort of interest"
   ]
  },
  {
   "cell_type": "markdown",
   "id": "a1c88188",
   "metadata": {},
   "source": [
    "FeatureExtraction requires the cohorts to be instantiated in the <code>cohort</code> table in the Common Data Model, or in a table that has the same structure as the <code>cohort</code> table. We could create cohorts using a cohort definition tool, but here we’ll just use some simple SQL to find the first drug era per person. Note that because we will be creating covariates based on data before cohort start, we are requiring 365 days of observation before the first exposure. FeatureExtraction will not check if a subject is observed during the specified time windows."
   ]
  },
  {
   "cell_type": "markdown",
   "id": "8f3503ec",
   "metadata": {},
   "source": [
    "```sql\n",
    "/***********************************\n",
    "File cohorts_of_interest.sql\n",
    "***********************************/\n",
    "\n",
    "IF OBJECT_ID('@resultsDatabaseSchema.cohorts_of_interest', 'U') IS NOT NULL\n",
    "DROP TABLE @resultsDatabaseSchema.cohorts_of_interest;\n",
    "\n",
    "SELECT first_use.*\n",
    "INTO @resultsDatabaseSchema.cohorts_of_interest\n",
    "FROM (\n",
    "SELECT drug_concept_id AS cohort_definition_id,\n",
    "MIN(drug_era_start_date) AS cohort_start_date,\n",
    "MIN(drug_era_end_date) AS cohort_end_date,\n",
    "person_id AS subject_id\n",
    "FROM @cdmDatabaseSchema.drug_era\n",
    "WHERE drug_concept_id = 1118084-- celecoxib\n",
    "OR drug_concept_id = 1124300 --diclofenac\n",
    "GROUP BY drug_concept_id, \n",
    "person_id\n",
    ") first_use \n",
    "INNER JOIN @cdmDatabaseSchema.observation_period\n",
    "ON first_use.subject_id = observation_period.person_id\n",
    "AND cohort_start_date >= observation_period_start_date\n",
    "AND cohort_end_date <= observation_period_end_date\n",
    "WHERE DATEDIFF(DAY, observation_period_start_date, cohort_start_date) >= 365;\n",
    "```"
   ]
  },
  {
   "cell_type": "markdown",
   "id": "649a1b75",
   "metadata": {},
   "source": [
    "This is parameterized SQL which can be used by the SqlRender package. We use parameterized SQL so we do not have to pre-specify the names of the CDM and result schemas. That way, if we want to run the SQL on a different schema, we only need to change the parameter values; we do not have to change the SQL code. By also making use of translation functionality in SqlRender, we can make sure the SQL code can be run in many different environments.\n",
    "\n",
    "<b>NOTE</b><br>\n",
    "In the example online the SQL was not completely correct I changed the following lines:\n",
    "- person_id --> person_id AS subject_id\n",
    "- ON first_use.person_id = observation_period.person_id --> ON first_use.subject_id = observation_period.person_id"
   ]
  },
  {
   "cell_type": "code",
   "execution_count": null,
   "id": "f36c2b93",
   "metadata": {},
   "outputs": [],
   "source": [
    "sql = HelperFunctions.read_sql(r\"path_to\\cohorts_of_interest.sql\")\n",
    "sql = RenderSql.render(\n",
    "    sql,\n",
    "    cdmDatabaseSchema = cdm_database_schema,\n",
    "    resultsDatabaseSchema = results_database_schema)\n",
    "sql = RenderSql.translate(sql, 'postgresql', temp_emulation_schema=None)\n",
    "\n",
    "Sql.execute_sql(conn, sql)"
   ]
  },
  {
   "cell_type": "markdown",
   "id": "e93bcb24",
   "metadata": {},
   "source": [
    "In this code, we first read the SQL from the file into memory. In the next line, we replace the two parameter names with the actual values. We then translate the SQL into the dialect appropriate for the DBMS we already specified in the <code>connectionDetails</code>. Next, we connect to the server, and submit the rendered and translated SQL.\n",
    "\n",
    "If all went well, we now have a table with the cohorts of interest. We can see how many events per type:"
   ]
  },
  {
   "cell_type": "code",
   "execution_count": null,
   "id": "ae5e4434",
   "metadata": {},
   "outputs": [],
   "source": [
    "sql = \"SELECT cohort_definition_id, COUNT(*) AS count FROM @resultsDatabaseSchema.cohorts_of_interest GROUP BY cohort_definition_id\"\n",
    "sql = RenderSql.render(sql, resultsDatabaseSchema = results_database_schema)\n",
    "sql = RenderSql.translate(sql, 'postgresql', temp_emulation_schema=None)\n",
    "\n",
    "result = Sql.query_sql(conn, sql)\n",
    "common.convert_from_r(result)"
   ]
  },
  {
   "cell_type": "markdown",
   "id": "56562514",
   "metadata": {},
   "source": [
    "## Creating default covariates\n",
    "\n",
    "Or create a large default set of covariates, including covariates for all drugs, drug classes, condition, condition classes, procedures, observations, etc."
   ]
  },
  {
   "cell_type": "code",
   "execution_count": null,
   "id": "7a22f298-82a3-4705-a4a3-545045d06ca0",
   "metadata": {},
   "outputs": [],
   "source": [
    "covariate_settings = feature_extraction.create_default_covariate_settings()\n",
    "\n",
    "covariate_data = feature_extraction.get_db_default_covariate_data(\n",
    "    cdm_database_schema = cdm_database_schema,\n",
    "    connection = conn,\n",
    "    cohort_table = f\"{results_database_schema}.cohorts_of_interest\",\n",
    "    covariate_settings = covariate_settings)"
   ]
  },
  {
   "cell_type": "code",
   "execution_count": null,
   "id": "234afbf7",
   "metadata": {},
   "outputs": [],
   "source": [
    "covariate_data.summary()"
   ]
  },
  {
   "cell_type": "markdown",
   "id": "4f3eb650",
   "metadata": {},
   "source": [
    "## Creating per-person covariates for a cohort of interest\n",
    "\n",
    "We can create per-person covariates for one of the cohorts of interest, for example using the default settings:"
   ]
  },
  {
   "cell_type": "code",
   "execution_count": null,
   "id": "184d009b",
   "metadata": {},
   "outputs": [],
   "source": [
    "covariate_settings = feature_extraction.create_default_covariate_settings()\n",
    "\n",
    "covariate_data = feature_extraction.get_db_covariate_data(\n",
    "    connection_details = connection_details,\n",
    "    cdm_database_schema = cdm_database_schema,\n",
    "    cohort_database_schema = results_database_schema,\n",
    "    cohort_table = \"cohorts_of_interest\",\n",
    "    cohort_id = 1378382,\n",
    "    row_id_field = \"subject_id\", # \"subject_id\"\n",
    "    covariate_settings = covariate_settings)"
   ]
  },
  {
   "cell_type": "code",
   "execution_count": null,
   "id": "f3a0f9fd",
   "metadata": {},
   "outputs": [],
   "source": [
    "covariate_data.summary()"
   ]
  },
  {
   "cell_type": "markdown",
   "id": "8d593e3e",
   "metadata": {},
   "source": [
    "### Per-person covariate output format"
   ]
  },
  {
   "cell_type": "markdown",
   "id": "310b016a",
   "metadata": {},
   "source": [
    "The main component of the <code>covariateData</code> object is <code>covariates</code>:"
   ]
  },
  {
   "cell_type": "code",
   "execution_count": null,
   "id": "128f5bb8",
   "metadata": {},
   "outputs": [],
   "source": [
    "covariate_data.covariates"
   ]
  },
  {
   "cell_type": "markdown",
   "id": "d58d0ac3",
   "metadata": {},
   "source": [
    "The columns are defined as follows:\n",
    "\n",
    "- <code>rowId</code> uniquely identifies a cohort entry. When calling <code>getDbCovariateData</code> we defined <code>rowIdField = \"subject_id\"</code>, so in this case the <code>rowId</code> is the same as the <code>subject_id</code> in the cohort table. In cases where a single subject can appear in the cohort more than once it is up to the user to create a field in the cohort table that uniquely identifies each cohort entry, and use that as <code>rowIdField</code>.\n",
    "- <code>covariateId</code> identifies the covariate, and definitions of covariates can be found in the cohortData$covariateRef object.\n",
    "- <code>covariateValue</code> field provides the value."
   ]
  },
  {
   "cell_type": "markdown",
   "id": "e1a2303f",
   "metadata": {},
   "source": [
    "## Saving / Loading covariates\n",
    "\n",
    "Creating covariates can take considerable computing time, and it is probably a good idea to save them for future sessions. Because <code>covariateData</code> objects use <code>Andromeda</code>, we cannot use R’s regular save function. Instead, we’ll have to use the <code>saveCovariateData()</code> function:"
   ]
  },
  {
   "cell_type": "code",
   "execution_count": null,
   "id": "657f774d",
   "metadata": {},
   "outputs": [],
   "source": [
    "feature_extraction.save_covariate_data(covariate_data, \"covariates_py\")"
   ]
  },
  {
   "cell_type": "markdown",
   "id": "49ea2fd2",
   "metadata": {},
   "source": [
    "We can use the <code>loadCovariateData()</code> function to load the data in a future session:"
   ]
  },
  {
   "cell_type": "code",
   "execution_count": null,
   "id": "ff601d8d",
   "metadata": {},
   "outputs": [],
   "source": [
    "covariate_data = feature_extraction.load_covariate_data(\"covariates_py\")"
   ]
  },
  {
   "cell_type": "markdown",
   "id": "ca2fbd0c",
   "metadata": {},
   "source": [
    "## Removing infrequent covariates, normalizing, and removing redundancy\n",
    "\n",
    "One reason for generating per-person covariates may be to use them in some form of machine learning. In that case it may be necessary to tidy the data before proceeding. The <code>tidyCovariateData</code> function can perform three tasks:\n",
    "\n",
    "1. <b>Remove infrequent covariates</b>: Oftentimes the majority of features have non-zero values for only one or a few subjects in the cohort. These features are unlikely to end up in any fitted model, but can increase the computational burden, so removing them could increase performance. By default, covariates appearing in less than .1% of the subjects are removed.\n",
    "2. <b>Normalization</b>: Scales all covariate values to a value between 0 and 1 (by dividing by the max value for each covariate).\n",
    "3. <b>Removal of redundancy</b>: If every person in the cohort has the same value for a covariate (e.g. a cohort that is restricted to women will have the same gender covariate value for all) that covariate is redundant. Redundant covariates may pose a problem for some machine learning algorithms, for example causing a simple regression to no longer have a single solution. Similarly, groups of covariates may be redundant (e.g. every person will belong to at least one age group, making one group redundant as it can be defined as the absence of the other groups)."
   ]
  },
  {
   "cell_type": "code",
   "execution_count": null,
   "id": "f00610fb-3889-4323-b115-f4175802d39a",
   "metadata": {},
   "outputs": [],
   "source": [
    "tidy_covariates = feature_extraction.tidy_covariate_data(\n",
    "    covariate_data,\n",
    "    min_fraction = 0.001,\n",
    "    normalize = True,\n",
    "    remove_redundancy = True)"
   ]
  },
  {
   "cell_type": "markdown",
   "id": "bd3db732",
   "metadata": {},
   "source": [
    "If we want to know how many infrequent covariates were removed we can query the <code>metaData</code> object:"
   ]
  },
  {
   "cell_type": "code",
   "execution_count": null,
   "id": "343181d5",
   "metadata": {},
   "outputs": [],
   "source": [
    "deleted_covariate_ids = tidy_covariates.attr('metaData').get('deletedInfrequentCovariateIds')"
   ]
  },
  {
   "cell_type": "markdown",
   "id": "a2eb6c3d",
   "metadata": {},
   "source": [
    "Similarly, if we want to know which redundant covariates were removed we can also query the <code>metaData</code> object:"
   ]
  },
  {
   "cell_type": "code",
   "execution_count": null,
   "id": "ce6c3d43",
   "metadata": {},
   "outputs": [],
   "source": [
    "deleted_covariate_ids = tidy_covariates.attr('metaData').get('deletedRedundantCovariateIds')"
   ]
  },
  {
   "cell_type": "markdown",
   "id": "161da3f3",
   "metadata": {},
   "source": [
    "If we want to know what these numbers mean, we can use the <code>covariateRef</code> object that is part of any <code>covariateData</code> object. Remember that the covariate data is stored in an <code>Andromeda</code> object, so we should use the proper syntax for querying these objects (see the <code>Andromeda</code> package documentation):"
   ]
  },
  {
   "cell_type": "code",
   "execution_count": null,
   "id": "b3926c45",
   "metadata": {},
   "outputs": [],
   "source": [
    "df = covariate_data.covariate_ref\n",
    "df[(df.covariateId.isin(deleted_covariate_ids))]"
   ]
  },
  {
   "cell_type": "markdown",
   "id": "3a2fb64d-4767-432e-8323-043bf3af2efc",
   "metadata": {},
   "source": [
    "## Filtering covariate data\n",
    "\n",
    "You can filter the covariate data on row id. See the example below:"
   ]
  },
  {
   "cell_type": "code",
   "execution_count": null,
   "id": "33540e2c-2161-4b2c-a751-9b4604dc4172",
   "metadata": {},
   "outputs": [],
   "source": [
    "filtered_covariate_data = feature_extraction.filter_by_row_id(covariate_data=covariate_data, row_ids=[2, 68])"
   ]
  },
  {
   "cell_type": "markdown",
   "id": "cda89245",
   "metadata": {},
   "source": [
    "# Creating aggregated covariates for a cohort of interest\n",
    "\n",
    "Often we do not need to have per-person covariates, but instead we are interested in aggregated statistics instead. For example, we may not need to know which persons are male, but would like to know what proportion of the cohort is male. We can aggregate per-person covariates:"
   ]
  },
  {
   "cell_type": "code",
   "execution_count": null,
   "id": "0df91903",
   "metadata": {},
   "outputs": [],
   "source": [
    "covariate_data2 = feature_extraction.aggregate_covariates(covariate_data)"
   ]
  },
  {
   "cell_type": "markdown",
   "id": "b47c9507",
   "metadata": {},
   "source": [
    "Of course, if all we wanted was aggregated statistics it would have been more efficient to aggregate them during creation:"
   ]
  },
  {
   "cell_type": "code",
   "execution_count": null,
   "id": "2acc458f",
   "metadata": {},
   "outputs": [],
   "source": [
    "covariate_settings = feature_extraction.create_default_covariate_settings()\n",
    "\n",
    "covariate_data2 = feature_extraction.get_db_covariate_data(\n",
    "    connection_details = connection_details,\n",
    "    cdm_database_schema = cdm_database_schema,\n",
    "    cohort_database_schema = results_database_schema,\n",
    "    cohort_table = \"cohorts_of_interest\",\n",
    "    cohort_id = 1378382,\n",
    "    covariate_settings = covariate_settings, \n",
    "    aggregated = True)"
   ]
  },
  {
   "cell_type": "code",
   "execution_count": null,
   "id": "0712418a",
   "metadata": {},
   "outputs": [],
   "source": [
    "covariate_data2.summary()"
   ]
  },
  {
   "cell_type": "markdown",
   "id": "40c6b164",
   "metadata": {},
   "source": [
    "Note that we specified <code>aggregated = TRUE</code>. Also, we are no longer required to define a <code>rowIdField</code> because we will no longer receive per-person data."
   ]
  },
  {
   "cell_type": "markdown",
   "id": "49bd0bd0",
   "metadata": {},
   "source": [
    "## Aggregated covariate output format"
   ]
  },
  {
   "cell_type": "markdown",
   "id": "f4d9e5c2",
   "metadata": {},
   "source": [
    "The two main components of the aggregated covariateData object are <code>covariates</code> and <code>covariatesContinuous</code>, for binary and continuous covariates respectively.\n",
    "\n",
    "The columns of covariates are defined as follows:\n",
    "\n",
    "- <code>covariateId</code> identifies the covariate, and definitions of covariates can be found in the <code>covariateData$covariateRef</code> object.\n",
    "- <code>sumValue</code> is the sum of the covariate values. Because these are binary features, this is equivalent to the number of people that have the covariate with a value of 1.\n",
    "- <code>averageValue</code> is the average covariate value. Because these are binary features, this is equivalent to the proportion of people that have the covariate with a value of 1."
   ]
  },
  {
   "cell_type": "code",
   "execution_count": null,
   "id": "82e36fab",
   "metadata": {},
   "outputs": [],
   "source": [
    "covariate_data2.covariates"
   ]
  },
  {
   "cell_type": "markdown",
   "id": "c76c775c",
   "metadata": {},
   "source": [
    "The columns of covariatesContinuous are defined as follows:\n",
    "\n",
    "- <code>covariateId</code> identifies the covariate, and definitions of covariates can be found in the <code>cohortData$covariateRef</code> object.\n",
    "\n",
    "- <code>countValue</code> is the number of people that have a value (for continuous variables).\n",
    "- <code>minValue</code>, <code>maxValue</code>, <code>averageValue</code>, <code>standardDeviation</code>, <code>medianValue</code>, <code>p10Value</code>, <code>p25Value</code>, <code>p75Value</code>, and <code>p90Value</code> all inform on the distribution of covariate values. Note that for some covariates (such as the Charlson comorbidity index) a value of 0 is interpreted as the value 0, while for other covariates (Such as blood pressure) 0 is interpreted as missing, and the distribution statistics are only computed over non-missing values. To learn which continuous covariates fall into which category one can consult the <code>missingMeansZero</code> field in the <code>covariateData$analysisRef</code> object."
   ]
  },
  {
   "cell_type": "code",
   "execution_count": null,
   "id": "6fa9e3bf",
   "metadata": {},
   "outputs": [],
   "source": [
    "covariate_data2.covariates_continuous"
   ]
  },
  {
   "cell_type": "markdown",
   "id": "7a589dc5",
   "metadata": {},
   "source": [
    "# Creating a table 1\n",
    "\n",
    "One task supported by the <code>FeatureExtraction</code> package is creating a table of overall study population characteristics that can be include in a paper. Since this is typically the first table in a paper we refer to such a table as ‘table 1’. A default table 1 is available in the <code>FeatureExtraction</code> package:"
   ]
  },
  {
   "cell_type": "code",
   "execution_count": null,
   "id": "a83dd238",
   "metadata": {},
   "outputs": [],
   "source": [
    "result = feature_extraction.create_table1(covariate_data1 = covariate_data2)\n",
    "result = common.convert_from_r(result)\n",
    "result.head()"
   ]
  },
  {
   "cell_type": "markdown",
   "id": "949bcbe7",
   "metadata": {},
   "source": [
    "Where applicable, these characteristics are drawn from analyses pertaining the ‘long-term’ windows, so concepts observed in the 365 days before up to and included the cohort start date.\n",
    "\n",
    "The <code>createTable1</code> function requires a simple specification of what variables to include in the table. The default specifications included in the package can be reviewed by calling the <code>getDefaultTable1Specifications</code> function. The specification reference analysis IDs and covariate IDs, and in the default specification these IDs refer to those in the default covariate settings. It is possible to create custom table 1 specifications and use those instead.\n",
    "\n",
    "Here we based table 1 on a <code>covariateData</code> object containing all default covariates, even though only a small fraction of covariates are used in the table. If we only want to extract those covariates needed for the table, we can use the <code>createTable1CovariateSettings</code> function:"
   ]
  },
  {
   "cell_type": "code",
   "execution_count": null,
   "id": "336ef8a9",
   "metadata": {},
   "outputs": [],
   "source": [
    "covariate_settings = feature_extraction.create_table1_covariate_settings()\n",
    "\n",
    "covariate_data2b = feature_extraction.get_db_covariate_data(\n",
    "    connection_details = connection_details,\n",
    "    cdm_database_schema = cdm_database_schema,\n",
    "    cohort_database_schema = results_database_schema,\n",
    "    cohort_table = \"cohorts_of_interest\",\n",
    "    cohort_id = 1378382,\n",
    "    covariate_settings = covariate_settings,\n",
    "    aggregated = True\n",
    ")"
   ]
  },
  {
   "cell_type": "markdown",
   "id": "d880c5f6-b2fb-42e8-971e-f9863ff8320f",
   "metadata": {},
   "source": [
    "To load the default Table1 specifications you can run:"
   ]
  },
  {
   "cell_type": "code",
   "execution_count": null,
   "id": "e5a727e6-cdc4-44e8-b656-ef3204c8edbb",
   "metadata": {},
   "outputs": [],
   "source": [
    "default_table1_specs = feature_extraction.get_default_table1_specifications()\n",
    "default_table1_specs = common.convert_from_r(default_table1_specs)\n",
    "default_table1_specs"
   ]
  },
  {
   "cell_type": "markdown",
   "id": "509d757d",
   "metadata": {},
   "source": [
    "# Comparing two cohorts\n",
    "\n",
    "Another task supported by the <code>FeatureExtraction</code> package is comparing two cohorts of interest. Suppose we want to compare two cohorts only on the variables included in the default table 1:"
   ]
  },
  {
   "cell_type": "code",
   "execution_count": null,
   "id": "39f46fda",
   "metadata": {},
   "outputs": [],
   "source": [
    "settings = feature_extraction.create_table1_covariate_settings(\n",
    "    excluded_covariate_concept_ids = [1378382, 1519936],\n",
    "    add_descendants_to_exclude = True\n",
    ")\n",
    "\n",
    "cov_paclitaxel = feature_extraction.get_db_covariate_data(\n",
    "    connection_details = connection_details,\n",
    "    cdm_database_schema = cdm_database_schema,\n",
    "    cohort_database_schema = results_database_schema,\n",
    "    cohort_table = \"cohorts_of_interest\",\n",
    "    cohort_id = 1378382,\n",
    "    covariate_settings = settings,\n",
    "    aggregated = True\n",
    ")\n",
    "\n",
    "cov_etonogestrel = feature_extraction.get_db_covariate_data(\n",
    "    connection_details = connection_details,\n",
    "    cdm_database_schema = cdm_database_schema,\n",
    "    cohort_database_schema = results_database_schema,\n",
    "    cohort_table = \"cohorts_of_interest\",\n",
    "    cohort_id = 1519936,\n",
    "    covariate_settings = settings,\n",
    "    aggregated = True\n",
    ")"
   ]
  },
  {
   "cell_type": "code",
   "execution_count": null,
   "id": "d8b763eb",
   "metadata": {},
   "outputs": [],
   "source": [
    "std = feature_extraction.compute_standardized_difference(cov_paclitaxel, cov_etonogestrel)\n",
    "std = common.convert_from_r(std)"
   ]
  },
  {
   "cell_type": "markdown",
   "id": "6c3e3cbf",
   "metadata": {},
   "source": [
    "In this example we have chosen to exclude any covariates derived from the two concepts that were used to define the two cohorts: etonogestrel (1378382), and paclitaxel (1519936). We compute the standardized difference between the remaining covariates."
   ]
  },
  {
   "cell_type": "code",
   "execution_count": null,
   "id": "45dd54df",
   "metadata": {},
   "outputs": [],
   "source": [
    "std.head()"
   ]
  },
  {
   "cell_type": "markdown",
   "id": "69776ab7",
   "metadata": {},
   "source": [
    "The <code>stdDiff</code> column contains the standardized difference. By default the data is ranked in descending order of the absolute value of the standardized difference, showing the covariate with the largest difference first.\n",
    "\n",
    "We can also show the comparison as a standard table 1:"
   ]
  },
  {
   "cell_type": "code",
   "execution_count": null,
   "id": "04c4050e",
   "metadata": {},
   "outputs": [],
   "source": [
    "result = feature_extraction.create_table1(\n",
    "    covariate_data1 = cov_paclitaxel,\n",
    "    covariate_data2 = cov_etonogestrel,\n",
    "    output = \"two columns\")\n",
    "\n",
    "result = common.convert_from_r(result)\n",
    "result.head()"
   ]
  },
  {
   "cell_type": "markdown",
   "id": "a6d5c9ce",
   "metadata": {},
   "source": [
    "# Disconnect"
   ]
  },
  {
   "cell_type": "code",
   "execution_count": null,
   "id": "febab0b6",
   "metadata": {},
   "outputs": [],
   "source": [
    "Connect.disconnect(conn)\n",
    "\n",
    "print('Done')"
   ]
  }
 ],
 "metadata": {
  "kernelspec": {
   "display_name": "Python 3 (ipykernel)",
   "language": "python",
   "name": "python3"
  },
  "language_info": {
   "codemirror_mode": {
    "name": "ipython",
    "version": 3
   },
   "file_extension": ".py",
   "mimetype": "text/x-python",
   "name": "python",
   "nbconvert_exporter": "python",
   "pygments_lexer": "ipython3",
   "version": "3.10.12"
  }
 },
 "nbformat": 4,
 "nbformat_minor": 5
}

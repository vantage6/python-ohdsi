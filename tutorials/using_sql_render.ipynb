{
 "cells": [
  {
   "cell_type": "markdown",
   "id": "1213d6b9",
   "metadata": {},
   "source": [
    "# Using SQL Render\n",
    "\n",
    "Examples followed and combined: https://github.com/OHDSI/SqlRender/ and https://ohdsi.github.io/TheBookOfOhdsi/SqlAndR.html\n",
    "\n",
    "by Anja van Gestel"
   ]
  },
  {
   "cell_type": "code",
   "execution_count": null,
   "id": "75a18e97",
   "metadata": {},
   "outputs": [],
   "source": [
    "## in R:\n",
    "# remotes::install_github(\"OHDSI/SqlRender\")\n",
    "\n",
    "%load_ext autoreload\n",
    "%autoreload 2\n",
    "\n",
    "import os\n",
    "os.environ[\"R_HOME\"] = r\"C:\\Program Files\\R\\R-4.3.1\" # change as needed\n",
    "from pathlib import Path\n",
    "\n",
    "from ohdsi import sqlrender\n",
    "from ohdsi import database_connector"
   ]
  },
  {
   "cell_type": "markdown",
   "id": "38cf643b",
   "metadata": {},
   "source": [
    "# Introduction\n",
    "Sqlrender is a package for rendering parameterized SQL, and translating it to different SQL dialects. \n",
    "\n",
    "# Features\n",
    "* Supports a simple markup syntax for making SQL parameterized, and renders parameterized SQL (containing the markup syntax) to executable SQL\n",
    "* The syntax supports defining default parameter values\n",
    "* The syntax supports if-then-else structures\n",
    "* Has functions for translating SQL from one dialect (Microsoft SQL Server) to other dialects (Oracle, PostgreSQL, Amazon RedShift, Impala, IBM Netezza, Google BigQuery, Microsoft PDW, Snowflake, Azure Synapse, Apache Spark and SQLite)\n",
    "* Can be used as R package, Java library, or as stand-alone executable through a command-line interface"
   ]
  },
  {
   "cell_type": "markdown",
   "id": "1f1ee7ca",
   "metadata": {},
   "source": [
    "# List supported dialects"
   ]
  },
  {
   "cell_type": "code",
   "execution_count": null,
   "id": "6a1b843a",
   "metadata": {},
   "outputs": [],
   "source": [
    "sqlrender.list_supported_dialects()"
   ]
  },
  {
   "cell_type": "markdown",
   "id": "82907beb",
   "metadata": {},
   "source": [
    "# SQL Parameterization\n",
    "\n",
    "One of the functions of the package is to support parameterization of SQL. Often, small variations of SQL need to be generated based on some parameters. SqlRender offers a simple markup syntax inside the SQL code to allow parameterization. Rendering the SQL based on parameter values is done using the <code>render()</code> function.\n",
    "\n",
    "## Substituting Parameter Values\n",
    "\n",
    "The <code>@</code> character can be used to indicate parameter names that need to be exchanged for actual parameter values when rendering. In the following example, a variable called <code>a</code> is mentioned in the SQL. In the call to the render function the value of this parameter is defined:"
   ]
  },
  {
   "cell_type": "code",
   "execution_count": null,
   "id": "bfd99163",
   "metadata": {},
   "outputs": [],
   "source": [
    "sql = \"SELECT * FROM concept WHERE concept_id = @a;\"\n",
    "print(sqlrender.render(sql, a = 123))"
   ]
  },
  {
   "cell_type": "markdown",
   "id": "b0329d52",
   "metadata": {},
   "source": [
    "Note that, unlike the parameterization offered by most database management systems, it is just as easy to parameterize table or field names as values:"
   ]
  },
  {
   "cell_type": "code",
   "execution_count": null,
   "id": "496abfa0",
   "metadata": {},
   "outputs": [],
   "source": [
    "sql = \"SELECT * FROM @x WHERE person_id = @a;\"\n",
    "print(sqlrender.render(sql, x = \"observation\", a = 123))"
   ]
  },
  {
   "cell_type": "markdown",
   "id": "be32fa0c",
   "metadata": {},
   "source": [
    "The parameter values can be numbers, strings, booleans, as well as vectors, which are converted to comma-delimited lists:"
   ]
  },
  {
   "cell_type": "code",
   "execution_count": null,
   "id": "1e6c906a",
   "metadata": {},
   "outputs": [],
   "source": [
    "sql = \"SELECT * FROM concept WHERE concept_id IN (@a);\"\n",
    "print(sqlrender.render(sql, a = [123, 234, 345]))"
   ]
  },
  {
   "cell_type": "markdown",
   "id": "878d78f4",
   "metadata": {},
   "source": [
    "# If-Then-Else\n",
    "\n",
    "Sometimes blocks of codes need to be turned on or off based on the values of one or more parameters. This is done using the <code>{Condition} ? {if true} : {if false}</code> syntax. If the <i>condition</i> evaluates to <i>true</i> or 1, the <i>if true</i> block is used, else the <i>if false</i> block is shown (if present)."
   ]
  },
  {
   "cell_type": "code",
   "execution_count": null,
   "id": "adb4c83e",
   "metadata": {},
   "outputs": [],
   "source": [
    "sql = \"SELECT * FROM cohort {@x} ? {WHERE subject_id = 1}\"\n",
    "print(sqlrender.render(sql, x = False))"
   ]
  },
  {
   "cell_type": "code",
   "execution_count": null,
   "id": "3da18340",
   "metadata": {},
   "outputs": [],
   "source": [
    "print(sqlrender.render(sql, x = True))"
   ]
  },
  {
   "cell_type": "markdown",
   "id": "a9782be1",
   "metadata": {},
   "source": [
    "Simple comparisons are also supported:"
   ]
  },
  {
   "cell_type": "code",
   "execution_count": null,
   "id": "a08284a7",
   "metadata": {},
   "outputs": [],
   "source": [
    "sql = \"SELECT * FROM cohort {@x == 1} ? {WHERE subject_id = 1};\"\n",
    "print(sqlrender.render(sql, x = 1))"
   ]
  },
  {
   "cell_type": "code",
   "execution_count": null,
   "id": "362c9657",
   "metadata": {},
   "outputs": [],
   "source": [
    "print(sqlrender.render(sql, x = 2))"
   ]
  },
  {
   "cell_type": "markdown",
   "id": "f2517991",
   "metadata": {},
   "source": [
    "As well as the <code>IN</code> operator:"
   ]
  },
  {
   "cell_type": "code",
   "execution_count": null,
   "id": "f4cea864",
   "metadata": {},
   "outputs": [],
   "source": [
    "sql = \"SELECT * FROM cohort {@x IN (1,2,3)} ? {WHERE subject_id = 1};\"\n",
    "print(sqlrender.render(sql, x = 2))"
   ]
  },
  {
   "cell_type": "code",
   "execution_count": null,
   "id": "071a593c",
   "metadata": {},
   "outputs": [],
   "source": [
    "sql = \"SELECT * FROM cohort {@x IN (1,2,3)} ? {WHERE subject_id = 1};\"\n",
    "print(sqlrender.render(sql, x = 5))"
   ]
  },
  {
   "cell_type": "markdown",
   "id": "85f0b7f1",
   "metadata": {},
   "source": [
    "# Translation to Other SQL Dialects\n",
    "\n",
    "Another function of the SqlRender package is to translate from OHDSI SQL to other SQL dialects. For example:"
   ]
  },
  {
   "cell_type": "code",
   "execution_count": null,
   "id": "a108123a",
   "metadata": {},
   "outputs": [],
   "source": [
    "sql = \"SELECT TOP 10 * FROM person;\"\n",
    "sqlrender.translate(sql, target_dialect = \"postgresql\")"
   ]
  },
  {
   "cell_type": "code",
   "execution_count": null,
   "id": "245a246f",
   "metadata": {},
   "outputs": [],
   "source": [
    "sqlrender.translate(sql, target_dialect = \"oracle\")"
   ]
  },
  {
   "cell_type": "markdown",
   "id": "56192816",
   "metadata": {},
   "source": [
    "<b>Note</b><br>\n",
    "There are limits to what SQL functions and constructs can be translated properly, both because only a limited set of translation rules have been implemented in the package, but also some SQL features do not have an equivalent in all dialects. This is the primary reason why OHDSI SQL was developed as its own, new SQL dialect. However, whenever possible we have kept to the SQL Server syntax to avoid reinventing the wheel."
   ]
  },
  {
   "cell_type": "markdown",
   "id": "4b87fbcb",
   "metadata": {},
   "source": [
    "# SQL from file\n",
    "\n",
    "Reading SQL from file is of course essential as well, so let's take a look."
   ]
  },
  {
   "cell_type": "code",
   "execution_count": null,
   "id": "50ef22d1",
   "metadata": {},
   "outputs": [],
   "source": [
    "sql_file = r'./input/cohorts_of_interest.sql'\n",
    "sql = sqlrender.read_sql(sql_file)\n",
    "print(sql)"
   ]
  },
  {
   "cell_type": "markdown",
   "id": "3e1df45d",
   "metadata": {},
   "source": [
    "# SQL &rarr; file\n",
    "\n",
    "Writing SQL to a file is possible as well."
   ]
  },
  {
   "cell_type": "code",
   "execution_count": null,
   "id": "a92aecae",
   "metadata": {},
   "outputs": [],
   "source": [
    "sql_file = r'./input/cohorts_of_interest.sql'\n",
    "sql = sqlrender.read_sql(sql_file)\n",
    "\n",
    "filename = 'write_sql_to_file.sql'\n",
    "sqlrender.write_sql(sql, filename)\n",
    "print(f'New file created: {filename}')"
   ]
  },
  {
   "cell_type": "markdown",
   "id": "7f02b173",
   "metadata": {},
   "source": [
    "# SQL file &rarr; rendered SQL file\n",
    "\n",
    "It is also possible to create a new file directly from a SQL file, rendered with all parameters. Just feed the function <code>render_sql_file()</code> with the source file, target file, and all the parameters and their corresponding target values. In this example the SQL file contains text like \"@resultsDatabaseSchema\" and \"@cdmDatabaseSchema\". You will have to tell <code>render_sql_file()</code> what values you want to be rendered instead of these parameters."
   ]
  },
  {
   "cell_type": "code",
   "execution_count": null,
   "id": "41079ccb",
   "metadata": {},
   "outputs": [],
   "source": [
    "sql_file = r'./input/cohorts_of_interest.sql'\n",
    "sql_file2 = 'rendered_cohorts_of_interest.sql'\n",
    "sqlrender.render_sql_file(sql_file, sql_file2, \n",
    "                          resultsDatabaseSchema = \"my_results_schema\", \n",
    "                          cdmDatabaseSchema = \"my_cdm_schema\")\n",
    "print(f'New file created: {sql_file2}')"
   ]
  },
  {
   "cell_type": "markdown",
   "id": "2f36be80",
   "metadata": {},
   "source": [
    "# SQL file &rarr; translated SQL file\n",
    "\n",
    "Whenever you want to translate SQL from a file to SQL of a different dialect in a file, <code>translate_sql_file()</code> is your function!"
   ]
  },
  {
   "cell_type": "code",
   "execution_count": null,
   "id": "40baa680",
   "metadata": {},
   "outputs": [],
   "source": [
    "sql_file = r'./input/cohorts_of_interest.sql'\n",
    "sql_file2 = 'translated_cohorts_of_interest.sql'\n",
    "sqlrender.translate_sql_file(sql_file, sql_file2, 'oracle')\n",
    "print(f'New file created: {sql_file2}')"
   ]
  },
  {
   "cell_type": "markdown",
   "id": "120f4646",
   "metadata": {},
   "source": [
    "# Read, Render, Translate, Execute\n",
    "\n",
    "The Sqlrender package together with the SQL functions from DatabaseConnector make that you can render, translate, and execute SQL scripts on your own database."
   ]
  },
  {
   "cell_type": "markdown",
   "id": "c4831104",
   "metadata": {},
   "source": [
    "### Your own parameters\n",
    "\n",
    "For these tutorials I am using a PostgreSql database, which I created using Synthea (https://github.com/synthetichealth/synthea). My database is called 'synthea10', it has a schema 'cdm_synthea10' which contains the OMOP CDM tables, and another schema 'results' which I use for results/cohorts/etc.\n",
    "\n",
    "For the code in this tutorial to work you should of course call your own database / schemas / user / password."
   ]
  },
  {
   "cell_type": "code",
   "execution_count": null,
   "id": "9a9d3cd4",
   "metadata": {},
   "outputs": [],
   "source": [
    "cdm_database = 'synthea10'\n",
    "cdm_schema = 'cdm_synthea10'\n",
    "results_schema = 'results'\n",
    "user = 'postgres'\n",
    "password = 'password'"
   ]
  },
  {
   "cell_type": "markdown",
   "id": "86c9da06",
   "metadata": {},
   "source": [
    "### Connection to the database"
   ]
  },
  {
   "cell_type": "code",
   "execution_count": null,
   "id": "8a226e63",
   "metadata": {},
   "outputs": [],
   "source": [
    "connection_details = database_connector.create_connection_details(\n",
    "    dbms = \"postgresql\",\n",
    "    server = f\"localhost/{cdm_database}\",\n",
    "    user = f\"{user}\",\n",
    "    password = f\"{password}\",\n",
    "    port = 5432)\n",
    "conn = database_connector.connect(connection_details)"
   ]
  },
  {
   "cell_type": "markdown",
   "id": "d779c9a4",
   "metadata": {},
   "source": [
    "### SQL transformations\n",
    "\n",
    "Reading, rendering, translating the SQL from a file."
   ]
  },
  {
   "cell_type": "code",
   "execution_count": null,
   "id": "01804af9",
   "metadata": {},
   "outputs": [],
   "source": [
    "sql_file = r'./input/cohorts_of_interest.sql'\n",
    "sql = sqlrender.read_sql(sql_file)\n",
    "sql = sqlrender.render(sql, cdmDatabaseSchema = cdm_schema, resultsDatabaseSchema = results_schema)\n",
    "sql = sqlrender.translate(sql, 'postgresql')"
   ]
  },
  {
   "cell_type": "markdown",
   "id": "5feebf37",
   "metadata": {},
   "source": [
    "### Execute\n",
    "\n",
    "Executing this SQL creates a 'cohorts_of_interest' table in our results schema in the database!"
   ]
  },
  {
   "cell_type": "code",
   "execution_count": null,
   "id": "6a3a29f4",
   "metadata": {},
   "outputs": [],
   "source": [
    "database_connector.execute_sql(conn, sql)"
   ]
  },
  {
   "cell_type": "markdown",
   "id": "428f986e",
   "metadata": {},
   "source": [
    "### Disconnect"
   ]
  },
  {
   "cell_type": "code",
   "execution_count": null,
   "id": "975c73e6",
   "metadata": {},
   "outputs": [],
   "source": [
    "database_connector.disconnect(conn)\n",
    "\n",
    "print('Done')"
   ]
  },
  {
   "cell_type": "markdown",
   "id": "61868fbc",
   "metadata": {},
   "source": [
    "# Epilogue"
   ]
  },
  {
   "cell_type": "markdown",
   "id": "84b0fb08",
   "metadata": {},
   "source": [
    "In this tutorial we handled the most commonly used functions of the Sqlrender, if you are looking for more check out the docs and feel free to play around with <code>translate_single_statement()</code>, <code>get_temp_table_prefix()</code>, <code>split_sql()</code>, and <code>load_render_translate_sql()</code> as well."
   ]
  }
 ],
 "metadata": {
  "kernelspec": {
   "display_name": "Python 3 (ipykernel)",
   "language": "python",
   "name": "python3"
  },
  "language_info": {
   "codemirror_mode": {
    "name": "ipython",
    "version": 3
   },
   "file_extension": ".py",
   "mimetype": "text/x-python",
   "name": "python",
   "nbconvert_exporter": "python",
   "pygments_lexer": "ipython3",
   "version": "3.10.12"
  }
 },
 "nbformat": 4,
 "nbformat_minor": 5
}

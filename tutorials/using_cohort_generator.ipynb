{
 "cells": [
  {
   "cell_type": "markdown",
   "id": "3a30b3d4",
   "metadata": {},
   "source": [
    "# Using Cohort Generator\n",
    "\n",
    "Example followed: https://github.com/OHDSI/CohortGenerator\n",
    "\n",
    "by Anja van Gestel"
   ]
  },
  {
   "cell_type": "code",
   "execution_count": null,
   "id": "1d3a1501",
   "metadata": {},
   "outputs": [],
   "source": [
    "## in R:\n",
    "# remotes::install_github(\"OHDSI/CohortGenerator\")\n",
    "\n",
    "%load_ext autoreload\n",
    "%autoreload 2\n",
    "\n",
    "import os\n",
    "os.environ[\"R_HOME\"] = r\"C:\\Program Files\\R\\R-4.3.1\" # change as needed\n",
    "from pathlib import Path\n",
    "import pandas as pd\n",
    "\n",
    "from ohdsi import circe\n",
    "from ohdsi import common\n",
    "from ohdsi import cohort_generator\n",
    "from ohdsi import database_connector"
   ]
  },
  {
   "cell_type": "markdown",
   "id": "d80b7d81",
   "metadata": {},
   "source": [
    "# Introduction\n",
    "\n",
    "This R package contains functions for generating cohorts using data in the CDM.\n",
    "\n",
    "# Features\n",
    "\n",
    "- Create a cohort table and generate cohorts against an OMOP CDM.\n",
    "- Get the count of subjects and events in a cohort.\n",
    "- Provides functions for performing incremental tasks. This is used by CohortGenerator to skip any cohorts that were successfully generated in a previous run. This functionality is generic enough for other packages to use for performing their own incremental tasks."
   ]
  },
  {
   "cell_type": "markdown",
   "id": "9621c65f",
   "metadata": {},
   "source": [
    "# Your own parameters\n",
    "\n",
    "For these tutorials I am using a PostgreSql database, which I created using Synthea (https://github.com/synthetichealth/synthea). My database is called 'synthea10', it has a schema 'cdm_synthea10' which contains the OMOP CDM tables, and another schema 'results' which I use for results/cohorts/etc.\n",
    "\n",
    "For the code in this tutorial to work you should of course call your own database / schemas / user / password."
   ]
  },
  {
   "cell_type": "code",
   "execution_count": null,
   "id": "0041871a",
   "metadata": {},
   "outputs": [],
   "source": [
    "cdm_database = 'synthea10'\n",
    "cdm_schema = 'cdm_synthea10'\n",
    "results_schema = 'results'\n",
    "user = 'postgres'\n",
    "password = 'password'"
   ]
  },
  {
   "cell_type": "markdown",
   "id": "9d513eea",
   "metadata": {},
   "source": [
    "# Connect to your database"
   ]
  },
  {
   "cell_type": "code",
   "execution_count": null,
   "id": "7db153bf",
   "metadata": {},
   "outputs": [],
   "source": [
    "connection_details = database_connector.create_connection_details(\n",
    "    dbms = \"postgresql\",\n",
    "    server = f\"localhost/{cdm_database}\",\n",
    "    user = f\"{user}\",\n",
    "    password = f\"{password}\"\n",
    ")\n",
    "\n",
    "conn = database_connector.connect(connection_details)"
   ]
  },
  {
   "cell_type": "markdown",
   "id": "9a83838c",
   "metadata": {},
   "source": [
    "# Get cohort definition and query"
   ]
  },
  {
   "cell_type": "code",
   "execution_count": null,
   "id": "46c77aaa",
   "metadata": {},
   "outputs": [],
   "source": [
    "cohort_json_filename = r\"./input/death_cohort_with_concept_sets.json\"\n",
    "cohort_json = Path(cohort_json_filename).read_text()\n",
    "\n",
    "cohort_expression = circe.cohort_expression_from_json(cohort_json)\n",
    "\n",
    "options = circe.create_generate_options()\n",
    "cohort_sql = circe.build_cohort_query(cohort_expression, options)"
   ]
  },
  {
   "cell_type": "markdown",
   "id": "ec497bf4",
   "metadata": {},
   "source": [
    "# Empty cohort definition set"
   ]
  },
  {
   "cell_type": "code",
   "execution_count": null,
   "id": "9daeef50",
   "metadata": {},
   "outputs": [],
   "source": [
    "cohorts_to_create = cohort_generator.create_empty_cohort_definition_set()\n",
    "common.convert_from_r(cohorts_to_create)"
   ]
  },
  {
   "cell_type": "markdown",
   "id": "86afa65a",
   "metadata": {},
   "source": [
    "# Fill the cohort definition set"
   ]
  },
  {
   "cell_type": "code",
   "execution_count": null,
   "id": "0e19c22a",
   "metadata": {},
   "outputs": [],
   "source": [
    "cohorts_to_create = pd.DataFrame({\n",
    "    'cohortId': 55,\n",
    "    'cohortName': 'Death cohort', \n",
    "    'sql': cohort_sql\n",
    "})\n",
    "\n",
    "print(cohorts_to_create)"
   ]
  },
  {
   "cell_type": "markdown",
   "id": "04be36e7",
   "metadata": {},
   "source": [
    "# Create cohort tables"
   ]
  },
  {
   "cell_type": "code",
   "execution_count": null,
   "id": "cf092feb",
   "metadata": {},
   "outputs": [],
   "source": [
    "table_names = cohort_generator.get_cohort_table_names()\n",
    "res = cohort_generator.create_cohort_tables(\n",
    "    connection = conn,\n",
    "    cohort_database_schema = results_schema,\n",
    "    cohort_table_names = table_names)"
   ]
  },
  {
   "cell_type": "markdown",
   "id": "06cdc517",
   "metadata": {},
   "source": [
    "# Generating cohorts"
   ]
  },
  {
   "cell_type": "code",
   "execution_count": null,
   "id": "0e5759df",
   "metadata": {},
   "outputs": [],
   "source": [
    "cohorts_to_create = common.convert_to_r(cohorts_to_create)\n",
    "\n",
    "cohort_generator.generate_cohort_set(\n",
    "    connection_details = connection_details,\n",
    "    cdm_database_schema = cdm_schema,\n",
    "    cohort_database_schema = results_schema,\n",
    "    cohort_table_names = table_names,\n",
    "    cohort_definition_set = cohorts_to_create)"
   ]
  },
  {
   "cell_type": "markdown",
   "id": "24b29906",
   "metadata": {},
   "source": [
    "# Get cohort counts"
   ]
  },
  {
   "cell_type": "code",
   "execution_count": null,
   "id": "1da9fdd0",
   "metadata": {},
   "outputs": [],
   "source": [
    "cohort_counts = cohort_generator.get_cohort_counts(\n",
    "    connection_details = connection_details,\n",
    "    cohort_database_schema = results_schema,\n",
    "    cohort_table = 'cohort')\n",
    "\n",
    "common.convert_from_r(cohort_counts)"
   ]
  },
  {
   "cell_type": "markdown",
   "id": "9c710570",
   "metadata": {},
   "source": [
    "# Disconnect"
   ]
  },
  {
   "cell_type": "code",
   "execution_count": null,
   "id": "5335d52b",
   "metadata": {},
   "outputs": [],
   "source": [
    "database_connector.disconnect(conn)\n",
    "\n",
    "print('Done')"
   ]
  }
 ],
 "metadata": {
  "kernelspec": {
   "display_name": "Python 3 (ipykernel)",
   "language": "python",
   "name": "python3"
  },
  "language_info": {
   "codemirror_mode": {
    "name": "ipython",
    "version": 3
   },
   "file_extension": ".py",
   "mimetype": "text/x-python",
   "name": "python",
   "nbconvert_exporter": "python",
   "pygments_lexer": "ipython3",
   "version": "3.10.12"
  }
 },
 "nbformat": 4,
 "nbformat_minor": 5
}

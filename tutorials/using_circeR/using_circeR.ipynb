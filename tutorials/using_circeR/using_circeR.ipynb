{
 "cells": [
  {
   "cell_type": "markdown",
   "id": "588ae507",
   "metadata": {},
   "source": [
    "# Using CirceR\n",
    "\n",
    "by Anja van Gestel"
   ]
  },
  {
   "cell_type": "code",
   "execution_count": null,
   "id": "cd79ba50",
   "metadata": {},
   "outputs": [],
   "source": [
    "## in R:\n",
    "# remotes::install_github(\"OHDSI/CirceR\")\n",
    "\n",
    "%load_ext autoreload\n",
    "%autoreload 2\n",
    "\n",
    "import os\n",
    "os.environ[\"R_HOME\"] = r\"C:\\Program Files\\R\\R-4.3.1\" # change as needed\n",
    "from pathlib import Path\n",
    "import json\n",
    "\n",
    "from ohdsi import circe"
   ]
  },
  {
   "cell_type": "markdown",
   "id": "b2b7f590",
   "metadata": {},
   "source": [
    "# Introduction\n",
    "\n",
    "A R-wrapper for the Circe library, allowing OMOP CDM cohort definition expressions to be edited, and converted to JSON or SQL. This package provides convenient wrappers for Circe functions, and includes the necessary Java dependencies."
   ]
  },
  {
   "cell_type": "markdown",
   "id": "59726110",
   "metadata": {},
   "source": [
    "# JSON input\n",
    "\n",
    "It's common practice, after the cohort definition stage, to have your cohort definition packed as a JSON file.<br>\n",
    "For this tutorial we created a JSON file for a \"Death cohort\", including some concept sets <i>(that are not used in the cohort definition, but that's not a problem)</i>. The JSON file was exported from Atlas."
   ]
  },
  {
   "cell_type": "code",
   "execution_count": null,
   "id": "ee573712",
   "metadata": {},
   "outputs": [],
   "source": [
    "cohort_json_filename = r\"death_cohort_with_concept_sets.json\"\n",
    "cohort_json = Path(cohort_json_filename).read_text()"
   ]
  },
  {
   "cell_type": "markdown",
   "id": "be9a319c",
   "metadata": {},
   "source": [
    "# Cohort JSON &rarr; Cohort Expression\n",
    "First there's the function <code>cohort_expression_from_json()</code> that reads a JSON and deserializes it into a R <code>CohortExpression</code> instance."
   ]
  },
  {
   "cell_type": "code",
   "execution_count": null,
   "id": "fd7fba89",
   "metadata": {},
   "outputs": [],
   "source": [
    "cohort_expression = circe.cohort_expression_from_json(cohort_json)"
   ]
  },
  {
   "cell_type": "markdown",
   "id": "d37fd06f",
   "metadata": {},
   "source": [
    "With the function <code>cohort_print_friendly()</code> you can print this cohort expression:"
   ]
  },
  {
   "cell_type": "code",
   "execution_count": null,
   "id": "626b7cc5",
   "metadata": {},
   "outputs": [],
   "source": [
    "print(circe.cohort_print_friendly(cohort_expression))"
   ]
  },
  {
   "cell_type": "markdown",
   "id": "04d871be",
   "metadata": {},
   "source": [
    "## Cohort Expression &rarr; Sql\n",
    "\n",
    "The function <code>createGenerateOptions()</code> creates a generation options object for use in <code>buildCohortQuery()</code>. Which we need to generate the OMOP CDM Sql version of the cohort expression."
   ]
  },
  {
   "cell_type": "code",
   "execution_count": null,
   "id": "517650a2",
   "metadata": {},
   "outputs": [],
   "source": [
    "options = circe.create_generate_options()\n",
    "cohort_sql = circe.build_cohort_query(cohort_expression, options)"
   ]
  },
  {
   "cell_type": "markdown",
   "id": "a81ba485",
   "metadata": {},
   "source": [
    "# Concept Sets"
   ]
  },
  {
   "cell_type": "code",
   "execution_count": null,
   "id": "b53026f6",
   "metadata": {},
   "outputs": [],
   "source": [
    "with open(cohort_json_filename, 'r') as f:\n",
    "    cohort_json = json.load(f)\n",
    "    \n",
    "concept_sets = cohort_json.get('ConceptSets')"
   ]
  },
  {
   "cell_type": "markdown",
   "id": "a3326539",
   "metadata": {},
   "source": [
    "Use <code>concept_set_list_print_friendly()</code> to print all concept set expressions:"
   ]
  },
  {
   "cell_type": "code",
   "execution_count": null,
   "id": "fc481493",
   "metadata": {},
   "outputs": [],
   "source": [
    "concept_set_list_json = json.dumps(concept_sets)\n",
    "print(circe.concept_set_list_print_friendly(concept_set_list_json))"
   ]
  },
  {
   "cell_type": "markdown",
   "id": "67f8f49d",
   "metadata": {},
   "source": [
    "Or use the function <code>concept_set_print_friendly()</code> to print individual concept sets expressions:"
   ]
  },
  {
   "cell_type": "code",
   "execution_count": null,
   "id": "e52616ca",
   "metadata": {},
   "outputs": [],
   "source": [
    "single_concept_set = cohort_json.get('ConceptSets')[0]"
   ]
  },
  {
   "cell_type": "code",
   "execution_count": null,
   "id": "1d2ea19f",
   "metadata": {},
   "outputs": [],
   "source": [
    "concept_set_json = json.dumps(single_concept_set)\n",
    "print(circe.concept_set_print_friendly(concept_set_json))"
   ]
  },
  {
   "cell_type": "markdown",
   "id": "1b7b1fba",
   "metadata": {},
   "source": [
    "## Concept Set Expression from JSON\n",
    "\n",
    "The cohort definition JSON includes the concept set expressions for the concept sets that were added. However, you can also export a concept set expression JSON from Atlas per individual concept set, that JSON has the same structure as the <code>'expression'</code> key in the cohort definition JSON. To create a <code>ConceptSetExpression</code> instance for a concept set expression use the following:"
   ]
  },
  {
   "cell_type": "code",
   "execution_count": null,
   "id": "e784a76e",
   "metadata": {},
   "outputs": [],
   "source": [
    "single_concept_set_expression = cohort_json.get('ConceptSets')[0].get('expression')\n",
    "concept_set_expression = circe.concept_set_expression_from_json(single_concept_set_expression)"
   ]
  },
  {
   "cell_type": "markdown",
   "id": "9b84d9d2",
   "metadata": {},
   "source": [
    "Note that the cell above now created a concept set expression instance for the first (<code>[0]</code>) concept set, not the second one. It only works PER concept set."
   ]
  },
  {
   "cell_type": "markdown",
   "id": "e56030ab",
   "metadata": {},
   "source": [
    "## Concept Set Expression &rarr; Sql"
   ]
  },
  {
   "cell_type": "code",
   "execution_count": null,
   "id": "1863b24a",
   "metadata": {},
   "outputs": [],
   "source": [
    "circe.build_concept_set_query(single_concept_set_expression)"
   ]
  }
 ],
 "metadata": {
  "kernelspec": {
   "display_name": "Python 3 (ipykernel)",
   "language": "python",
   "name": "python3"
  },
  "language_info": {
   "codemirror_mode": {
    "name": "ipython",
    "version": 3
   },
   "file_extension": ".py",
   "mimetype": "text/x-python",
   "name": "python",
   "nbconvert_exporter": "python",
   "pygments_lexer": "ipython3",
   "version": "3.10.12"
  }
 },
 "nbformat": 4,
 "nbformat_minor": 5
}

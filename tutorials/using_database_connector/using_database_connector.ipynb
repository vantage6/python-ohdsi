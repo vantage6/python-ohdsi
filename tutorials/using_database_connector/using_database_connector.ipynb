{
 "cells": [
  {
   "cell_type": "markdown",
   "id": "56753cce",
   "metadata": {},
   "source": [
    "# Using DatabaseConnector"
   ]
  },
  {
   "cell_type": "markdown",
   "id": "9fd71dc6",
   "metadata": {},
   "source": [
    "Example followed: https://ohdsi.github.io/DatabaseConnector/articles/Connecting.html\n",
    "\n",
    "by Anja van Gestel"
   ]
  },
  {
   "cell_type": "code",
   "execution_count": null,
   "id": "45d70a26",
   "metadata": {},
   "outputs": [],
   "source": [
    "## in R:\n",
    "# remotes::install_github(\"OHDSI/DatabaseConnector\")\n",
    "\n",
    "%load_ext autoreload\n",
    "%autoreload 2\n",
    "\n",
    "import os\n",
    "os.environ[\"R_HOME\"] = r\"C:\\Program Files\\R\\R-4.3.1\" # change as needed\n",
    "\n",
    "from ohdsi import database_connector"
   ]
  },
  {
   "cell_type": "markdown",
   "id": "f4815d29",
   "metadata": {},
   "source": [
    "# Introduction\n",
    "\n",
    "This vignette describes how you can use the <code>DatabaseConnector</code> package to connect to a database.\n",
    "\n",
    "<code>DatabaseConnector</code> supports these database platforms:\n",
    "\n",
    "* Microsoft SQL Server\n",
    "* Oracle\n",
    "* PostgresSql\n",
    "* Microsoft Parallel Data Warehouse (PDW, a.k.a. Analytics Platform System)\n",
    "* Amazon Redshift\n",
    "* Apache Impala\n",
    "* Google BigQuery\n",
    "* IBM Netezza\n",
    "* SQLite\n",
    "* Spark\n",
    "\n",
    "For working with SQLite, BigQuery, Netezza and Impala see the original tutorial: \n",
    "https://ohdsi.github.io/DatabaseConnector/articles/Connecting.html"
   ]
  },
  {
   "cell_type": "markdown",
   "id": "b14f375b",
   "metadata": {},
   "source": [
    "# Obtaining drivers\n",
    "\n",
    "Before <code>DatabaseConnector</code> can be used to connect to a database, the drivers for your platform need to be downloaded to a location in the local file system, which we’ll refer to as the JAR folder."
   ]
  },
  {
   "cell_type": "markdown",
   "id": "e6e41d0b",
   "metadata": {},
   "source": [
    "## The JAR folder\n",
    "\n",
    "The JAR folder is just a folder in the local file system where the database drivers are stored. It is highly recommended to use the <code>DATABASECONNECTOR_JAR_FOLDER</code> environmental variable to point to this folder, which you can for example set using:\n",
    "\n",
    "```R\n",
    "Sys.setenv(\"DATABASECONNECTOR_JAR_FOLDER\" = \"c:/temp/jdbcDrivers\")\n",
    "```\n",
    "\n",
    "Even better would be to add this entry to your <code>.Renviron</code> file:\n",
    "\n",
    "``` R\n",
    "DATABASECONNECTOR_JAR_FOLDER = 'c:/temp/jdbcDrivers'\n",
    "```\n",
    "\n",
    "That way, the environmental variable will be automatically set whenever you start R.<br>\n",
    "A convenient way to edit your .Renviron file is by using <code>usethis</code>:\n",
    "\n",
    "``` R\n",
    "install.packages(\"usethis\")\n",
    "usethis::edit_r_environ()\n",
    "```\n",
    "\n",
    "If you don’t use the <code>DATABASECONNECTOR_JAR_FOLDER</code> environmental variable, you will need to provide the <code>pathToDriver</code> argument every time you call the <code>downloadJdbcDrivers</code>, <code>connect</code>, <code>dbConnect</code>, or <code>createConnectionDetails</code> functions."
   ]
  },
  {
   "cell_type": "markdown",
   "id": "f4670b79",
   "metadata": {},
   "source": [
    "## Where are the JDBC drivers?\n",
    "\n",
    "If you want to do things manually you can find the JDBC drivers here:<br>\n",
    "https://ohdsi.github.io/DatabaseConnectorJars/"
   ]
  },
  {
   "cell_type": "markdown",
   "id": "7793d44d",
   "metadata": {},
   "source": [
    "## Obtaining drivers for SQL Server, Oracle, PostgreSQL, PDW, Spark, RedShift\n",
    "\n",
    "For your convenience these JDBC drivers are hosted on the OHDSI GitHub pages, and can be downloaded using the <code>downloadJdbcDrivers</code> function.<br>\n",
    "You’ll first need to specify the JAR folder as described in the previous section, and next download the driver. (for example, for PostgreSQL).\n",
    "\n",
    "In R this looks like this:\n",
    "\n",
    "``` R\n",
    "Sys.setenv(\"DATABASECONNECTOR_JAR_FOLDER\" = \"c:/temp/jdbcDrivers\")\n",
    "\n",
    "downloadJdbcDrivers(\"postgresql\")\n",
    "\n",
    "## DatabaseConnector JDBC drivers downloaded to 'c:/temp/jdbcDrivers'.\n",
    "```\n",
    "\n",
    "Note that if we hadn’t specified the <code>DATABASECONNECTOR_JAR_FOLDER</code> environmental variable, we would have to specify the <code>pathToDriver</code> argument when calling <code>downloadJdbcDrivers</code>."
   ]
  },
  {
   "cell_type": "markdown",
   "id": "7caf53e1",
   "metadata": {},
   "source": [
    "# Creating a connection\n",
    "\n",
    "On to Python-stuff now!<br>\n",
    "To connect to a database a number of details need to be specified, such as the database platform, the location of the server, the user name, password, and path to the driver. We can setup a connection with the database using the function <code>connect()</code>. There are different ways to call this function:\n",
    "\n",
    "1. <code>connect(dbms, user, password, server, port, extraSettings, oracleDriver, pathToDriver)</code>\n",
    "2. <code>connect(connectionDetails)</code>\n",
    "3. <code>connect(dbms, connectionString, user, password, pathToDriver)</code>"
   ]
  },
  {
   "cell_type": "markdown",
   "id": "17dfe7bf",
   "metadata": {},
   "source": [
    "### Connection with basic parameters"
   ]
  },
  {
   "cell_type": "code",
   "execution_count": null,
   "id": "786e93e8",
   "metadata": {},
   "outputs": [],
   "source": [
    "conn = database_connector.connect(\n",
    "    dbms = \"postgresql\",\n",
    "    server = \"localhost/cdm_database\",\n",
    "    user = \"postgres\",\n",
    "    password = \"password\",\n",
    "    port = 5432\n",
    ")"
   ]
  },
  {
   "cell_type": "markdown",
   "id": "97ae386f",
   "metadata": {},
   "source": [
    "See http://ohdsi.github.io/DatabaseConnector/reference/connect.html or type <code>?connect</code> for information on which details are required for each platform. Note that we did not need to specify the <code>pathToDriver</code> argument because we previously already set the <code>DATABASECONNECTOR_JAR_FOLDER</code> environmental variable.\n",
    "\n",
    "Don’t forget to close any connection afterwards:"
   ]
  },
  {
   "cell_type": "code",
   "execution_count": null,
   "id": "50f2e727",
   "metadata": {},
   "outputs": [],
   "source": [
    "database_connector.disconnect(conn)"
   ]
  },
  {
   "cell_type": "markdown",
   "id": "22f88179",
   "metadata": {},
   "source": [
    "### Connection string i.o. server name"
   ]
  },
  {
   "cell_type": "markdown",
   "id": "bb66302a",
   "metadata": {},
   "source": [
    "<b>Instead of</b> providing the <b>server name</b>, it is also possible to provide the <b>JDBC connection string</b> if this is more convenient:"
   ]
  },
  {
   "cell_type": "code",
   "execution_count": null,
   "id": "97c04d0f",
   "metadata": {},
   "outputs": [],
   "source": [
    "conn = database_connector.connect(\n",
    "    dbms = \"postgresql\",\n",
    "    connection_string = \"jdbc:postgresql://localhost:5432/cdm_database\",\n",
    "    user = \"postgres\",\n",
    "    password = \"password\"\n",
    ")"
   ]
  },
  {
   "cell_type": "code",
   "execution_count": null,
   "id": "127c2f2d",
   "metadata": {},
   "outputs": [],
   "source": [
    "database_connector.disconnect(conn)"
   ]
  },
  {
   "cell_type": "markdown",
   "id": "579bf77c",
   "metadata": {},
   "source": [
    "### Connection details"
   ]
  },
  {
   "cell_type": "markdown",
   "id": "97e40e0f",
   "metadata": {},
   "source": [
    "Sometimes we may want to first specify the <b>connection details</b>, and defer connecting until later. This may be convenient for example when the connection is established inside a function, and the details need to be passed as an argument. We can use the <code>createConnectionDetails</code> function for this purpose:"
   ]
  },
  {
   "cell_type": "code",
   "execution_count": null,
   "id": "49e4a02c",
   "metadata": {},
   "outputs": [],
   "source": [
    "connection_details = database_connector.create_connection_details(\n",
    "    dbms = \"postgresql\",\n",
    "    server = \"localhost/cdm_database\",\n",
    "    user = \"postgres\",\n",
    "    password = \"password\"\n",
    ")\n",
    "\n",
    "conn = database_connector.connect(connection_details)"
   ]
  },
  {
   "cell_type": "code",
   "execution_count": null,
   "id": "ceb8718b",
   "metadata": {},
   "outputs": [],
   "source": [
    "database_connector.disconnect(conn)"
   ]
  },
  {
   "cell_type": "markdown",
   "id": "ab25e6fd",
   "metadata": {},
   "source": [
    "# Using Windows Authentication for SQL Server\n",
    "\n",
    "In some organizations using Microsoft SQL Server and Windows, it is possible to use Windows Authentication to connect to the server, meaning you won’t have to provide a user name and password, since your Windows credentials will be used. This will require downloading the SQL Server authentication DLL file, and placing it somewhere on your system path. If you don’t have rights to add files to a place on your system path, you can place it anywhere, and set the <code>PATH_TO_AUTH_DLL</code> environmental variable, either using the <code>Sys.setenv()</code>, or by adding it to your <code>.Renviron</code> file. See http://ohdsi.github.io/DatabaseConnector/reference/connect.html#windows-authentication-for-sql-server-1 or type <code>?connect</code> for details on where to get the DLL (and what specific version)."
   ]
  }
 ],
 "metadata": {
  "kernelspec": {
   "display_name": "Python 3 (ipykernel)",
   "language": "python",
   "name": "python3"
  },
  "language_info": {
   "codemirror_mode": {
    "name": "ipython",
    "version": 3
   },
   "file_extension": ".py",
   "mimetype": "text/x-python",
   "name": "python",
   "nbconvert_exporter": "python",
   "pygments_lexer": "ipython3",
   "version": "3.10.12"
  }
 },
 "nbformat": 4,
 "nbformat_minor": 5
}
